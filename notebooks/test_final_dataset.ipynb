{
 "cells": [
  {
   "cell_type": "code",
   "execution_count": 1,
   "id": "f7bb1c30",
   "metadata": {},
   "outputs": [
    {
     "name": "stdout",
     "output_type": "stream",
     "text": [
      "📊 Esquema del dataset final:\n",
      "Schema({'day': Date, 'user_id': Int64, 'position': Int64, 'value_prop': String, 'timestamp': Date, 'week': Int8, 'clicked': Int32, 'prints_prev3w': Int64, 'taps_prev3w': Int64, 'pays_prev3w': Int64, 'total_amount_prev3w': Float64})\n",
      "\n",
      "🔍 Muestras:\n",
      "shape: (10, 11)\n",
      "┌────────────┬─────────┬──────────┬────────────┬───┬───────────┬───────────┬───────────┬───────────┐\n",
      "│ day        ┆ user_id ┆ position ┆ value_prop ┆ … ┆ prints_pr ┆ taps_prev ┆ pays_prev ┆ total_amo │\n",
      "│ ---        ┆ ---     ┆ ---      ┆ ---        ┆   ┆ ev3w      ┆ 3w        ┆ 3w        ┆ unt_prev3 │\n",
      "│ date       ┆ i64     ┆ i64      ┆ str        ┆   ┆ ---       ┆ ---       ┆ ---       ┆ w         │\n",
      "│            ┆         ┆          ┆            ┆   ┆ i64       ┆ i64       ┆ i64       ┆ ---       │\n",
      "│            ┆         ┆          ┆            ┆   ┆           ┆           ┆           ┆ f64       │\n",
      "╞════════════╪═════════╪══════════╪════════════╪═══╪═══════════╪═══════════╪═══════════╪═══════════╡\n",
      "│ 2020-11-30 ┆ 90211   ┆ 1        ┆ point      ┆ … ┆ 0         ┆ 0         ┆ 2         ┆ 59.68     │\n",
      "│ 2020-11-30 ┆ 38905   ┆ 2        ┆ send_money ┆ … ┆ 0         ┆ 0         ┆ 0         ┆ 0.0       │\n",
      "│ 2020-11-30 ┆ 52473   ┆ 3        ┆ credits_co ┆ … ┆ 0         ┆ 0         ┆ 2         ┆ 126.51    │\n",
      "│            ┆         ┆          ┆ nsumer     ┆   ┆           ┆           ┆           ┆           │\n",
      "│ 2020-11-30 ┆ 50712   ┆ 0        ┆ point      ┆ … ┆ 0         ┆ 0         ┆ 0         ┆ 0.0       │\n",
      "│ 2020-11-30 ┆ 32071   ┆ 3        ┆ point      ┆ … ┆ 0         ┆ 0         ┆ 0         ┆ 0.0       │\n",
      "│ 2020-11-30 ┆ 10572   ┆ 0        ┆ cellphone_ ┆ … ┆ 0         ┆ 0         ┆ 1         ┆ 21.04     │\n",
      "│            ┆         ┆          ┆ recharge   ┆   ┆           ┆           ┆           ┆           │\n",
      "│ 2020-11-30 ┆ 21367   ┆ 1        ┆ transport  ┆ … ┆ 0         ┆ 1         ┆ 0         ┆ 0.0       │\n",
      "│ 2020-11-30 ┆ 94077   ┆ 0        ┆ transport  ┆ … ┆ 0         ┆ 0         ┆ 0         ┆ 0.0       │\n",
      "│ 2020-11-30 ┆ 38740   ┆ 1        ┆ link_cobro ┆ … ┆ 0         ┆ 0         ┆ 0         ┆ 0.0       │\n",
      "│ 2020-11-30 ┆ 42826   ┆ 0        ┆ transport  ┆ … ┆ 0         ┆ 0         ┆ 1         ┆ 128.89    │\n",
      "└────────────┴─────────┴──────────┴────────────┴───┴───────────┴───────────┴───────────┴───────────┘\n",
      "\n",
      "✅ Semana(s) en el dataset: shape: (1, 1)\n",
      "┌──────┐\n",
      "│ week │\n",
      "│ ---  │\n",
      "│ i8   │\n",
      "╞══════╡\n",
      "│ 49   │\n",
      "└──────┘\n",
      "\n",
      "📈 Estadísticas de columnas agregadas:\n",
      "shape: (1, 5)\n",
      "┌──────────────┬────────────┬───────────────────────────┬───────────────┬──────────────────────────┐\n",
      "│ Total prints ┆ Total taps ┆ Total pagos anteriores    ┆ Total gastado ┆ Total de clics en última │\n",
      "│ anteriores   ┆ anteriores ┆ ---                       ┆ ---           ┆ seman…                   │\n",
      "│ ---          ┆ ---        ┆ i64                       ┆ f64           ┆ ---                      │\n",
      "│ i64          ┆ i64        ┆                           ┆               ┆ i32                      │\n",
      "╞══════════════╪════════════╪═══════════════════════════╪═══════════════╪══════════════════════════╡\n",
      "│ 0            ┆ 737        ┆ 11217                     ┆ 562787.12     ┆ 1498                     │\n",
      "└──────────────┴────────────┴───────────────────────────┴───────────────┴──────────────────────────┘\n"
     ]
    },
    {
     "ename": "ModuleNotFoundError",
     "evalue": "No module named 'pyarrow'",
     "output_type": "error",
     "traceback": [
      "\u001b[31m---------------------------------------------------------------------------\u001b[39m",
      "\u001b[31mModuleNotFoundError\u001b[39m                       Traceback (most recent call last)",
      "\u001b[36mCell\u001b[39m\u001b[36m \u001b[39m\u001b[32mIn[1]\u001b[39m\u001b[32m, line 31\u001b[39m\n\u001b[32m     22\u001b[39m \u001b[38;5;28mprint\u001b[39m(df.select([\n\u001b[32m     23\u001b[39m     pl.col(\u001b[33m\"\u001b[39m\u001b[33mprints_prev3w\u001b[39m\u001b[33m\"\u001b[39m).sum().alias(\u001b[33m\"\u001b[39m\u001b[33mTotal prints anteriores\u001b[39m\u001b[33m\"\u001b[39m),\n\u001b[32m     24\u001b[39m     pl.col(\u001b[33m\"\u001b[39m\u001b[33mtaps_prev3w\u001b[39m\u001b[33m\"\u001b[39m).sum().alias(\u001b[33m\"\u001b[39m\u001b[33mTotal taps anteriores\u001b[39m\u001b[33m\"\u001b[39m),\n\u001b[32m   (...)\u001b[39m\u001b[32m     27\u001b[39m     pl.col(\u001b[33m\"\u001b[39m\u001b[33mclicked\u001b[39m\u001b[33m\"\u001b[39m).sum().alias(\u001b[33m\"\u001b[39m\u001b[33mTotal de clics en última semana\u001b[39m\u001b[33m\"\u001b[39m)\n\u001b[32m     28\u001b[39m ]))\n\u001b[32m     30\u001b[39m \u001b[38;5;66;03m# Validar distribución de clicks\u001b[39;00m\n\u001b[32m---> \u001b[39m\u001b[32m31\u001b[39m df_hist = \u001b[43mdf\u001b[49m\u001b[43m.\u001b[49m\u001b[43mselect\u001b[49m\u001b[43m(\u001b[49m\u001b[43m[\u001b[49m\u001b[33;43m\"\u001b[39;49m\u001b[33;43mclicked\u001b[39;49m\u001b[33;43m\"\u001b[39;49m\u001b[43m]\u001b[49m\u001b[43m)\u001b[49m\u001b[43m.\u001b[49m\u001b[43mto_pandas\u001b[49m\u001b[43m(\u001b[49m\u001b[43m)\u001b[49m\n\u001b[32m     32\u001b[39m df_hist[\u001b[33m\"\u001b[39m\u001b[33mclicked\u001b[39m\u001b[33m\"\u001b[39m].value_counts().plot(kind=\u001b[33m\"\u001b[39m\u001b[33mbar\u001b[39m\u001b[33m\"\u001b[39m, title=\u001b[33m\"\u001b[39m\u001b[33mDistribución de clics\u001b[39m\u001b[33m\"\u001b[39m)\n\u001b[32m     33\u001b[39m plt.show()\n",
      "\u001b[36mFile \u001b[39m\u001b[32mg:\\My Drive\\Documentos Juan Felipe\\MercadoLibre\\PruebaTecnica\\venv\\Lib\\site-packages\\polars\\dataframe\\frame.py:2549\u001b[39m, in \u001b[36mDataFrame.to_pandas\u001b[39m\u001b[34m(self, use_pyarrow_extension_array, **kwargs)\u001b[39m\n\u001b[32m   2544\u001b[39m \u001b[38;5;28;01mif\u001b[39;00m Object \u001b[38;5;129;01min\u001b[39;00m \u001b[38;5;28mself\u001b[39m.dtypes:\n\u001b[32m   2545\u001b[39m     \u001b[38;5;28;01mreturn\u001b[39;00m \u001b[38;5;28mself\u001b[39m._to_pandas_with_object_columns(\n\u001b[32m   2546\u001b[39m         use_pyarrow_extension_array=use_pyarrow_extension_array, **kwargs\n\u001b[32m   2547\u001b[39m     )\n\u001b[32m-> \u001b[39m\u001b[32m2549\u001b[39m \u001b[38;5;28;01mreturn\u001b[39;00m \u001b[38;5;28;43mself\u001b[39;49m\u001b[43m.\u001b[49m\u001b[43m_to_pandas_without_object_columns\u001b[49m\u001b[43m(\u001b[49m\n\u001b[32m   2550\u001b[39m \u001b[43m    \u001b[49m\u001b[38;5;28;43mself\u001b[39;49m\u001b[43m,\u001b[49m\u001b[43m \u001b[49m\u001b[43muse_pyarrow_extension_array\u001b[49m\u001b[43m=\u001b[49m\u001b[43muse_pyarrow_extension_array\u001b[49m\u001b[43m,\u001b[49m\u001b[43m \u001b[49m\u001b[43m*\u001b[49m\u001b[43m*\u001b[49m\u001b[43mkwargs\u001b[49m\n\u001b[32m   2551\u001b[39m \u001b[43m\u001b[49m\u001b[43m)\u001b[49m\n",
      "\u001b[36mFile \u001b[39m\u001b[32mg:\\My Drive\\Documentos Juan Felipe\\MercadoLibre\\PruebaTecnica\\venv\\Lib\\site-packages\\polars\\dataframe\\frame.py:2600\u001b[39m, in \u001b[36mDataFrame._to_pandas_without_object_columns\u001b[39m\u001b[34m(self, df, use_pyarrow_extension_array, **kwargs)\u001b[39m\n\u001b[32m   2597\u001b[39m \u001b[38;5;28;01mif\u001b[39;00m \u001b[38;5;129;01mnot\u001b[39;00m df.width:  \u001b[38;5;66;03m# Empty dataframe, cannot infer schema from batches\u001b[39;00m\n\u001b[32m   2598\u001b[39m     \u001b[38;5;28;01mreturn\u001b[39;00m pd.DataFrame()\n\u001b[32m-> \u001b[39m\u001b[32m2600\u001b[39m record_batches = \u001b[43mdf\u001b[49m\u001b[43m.\u001b[49m\u001b[43m_df\u001b[49m\u001b[43m.\u001b[49m\u001b[43mto_pandas\u001b[49m\u001b[43m(\u001b[49m\u001b[43m)\u001b[49m\n\u001b[32m   2601\u001b[39m tbl = pa.Table.from_batches(record_batches)\n\u001b[32m   2602\u001b[39m \u001b[38;5;28;01mif\u001b[39;00m use_pyarrow_extension_array:\n",
      "\u001b[31mModuleNotFoundError\u001b[39m: No module named 'pyarrow'"
     ]
    }
   ],
   "source": [
    "# notebooks/test_final_dataset.ipynb\n",
    "\n",
    "import polars as pl\n",
    "import matplotlib.pyplot as plt\n",
    "\n",
    "# Cargar dataset generado\n",
    "df = pl.read_parquet(\"../output/final_dataset.parquet\")\n",
    "\n",
    "# Mostrar esquema y primeras filas\n",
    "print(\"📊 Esquema del dataset final:\")\n",
    "print(df.schema)\n",
    "\n",
    "print(\"\\n🔍 Muestras:\")\n",
    "print(df.head(10))\n",
    "\n",
    "# Validar que todos los días estén en la última semana\n",
    "ultima_semana = df.select(\"week\").unique()\n",
    "print(f\"\\n✅ Semana(s) en el dataset: {ultima_semana}\")\n",
    "\n",
    "# Estadísticas básicas por columnas agregadas\n",
    "print(\"\\n📈 Estadísticas de columnas agregadas:\")\n",
    "print(df.select([\n",
    "    pl.col(\"prints_prev3w\").sum().alias(\"Total prints anteriores\"),\n",
    "    pl.col(\"taps_prev3w\").sum().alias(\"Total taps anteriores\"),\n",
    "    pl.col(\"pays_prev3w\").sum().alias(\"Total pagos anteriores\"),\n",
    "    pl.col(\"total_amount_prev3w\").sum().alias(\"Total gastado\"),\n",
    "    pl.col(\"clicked\").sum().alias(\"Total de clics en última semana\")\n",
    "]))\n",
    "\n",
    "# Validar distribución de clicks\n",
    "df_hist = df.select([\"clicked\"]).to_pandas()\n",
    "df_hist[\"clicked\"].value_counts().plot(kind=\"bar\", title=\"Distribución de clics\")\n",
    "plt.show()\n"
   ]
  },
  {
   "cell_type": "code",
   "execution_count": 2,
   "id": "8cb5b936",
   "metadata": {},
   "outputs": [
    {
     "data": {
      "text/html": [
       "<div><style>\n",
       ".dataframe > thead > tr,\n",
       ".dataframe > tbody > tr {\n",
       "  text-align: right;\n",
       "  white-space: pre-wrap;\n",
       "}\n",
       "</style>\n",
       "<small>shape: (14_667, 11)</small><table border=\"1\" class=\"dataframe\"><thead><tr><th>day</th><th>user_id</th><th>position</th><th>value_prop</th><th>timestamp</th><th>week</th><th>clicked</th><th>prints_prev3w</th><th>taps_prev3w</th><th>pays_prev3w</th><th>total_amount_prev3w</th></tr><tr><td>date</td><td>i64</td><td>i64</td><td>str</td><td>date</td><td>i8</td><td>i32</td><td>i64</td><td>i64</td><td>i64</td><td>f64</td></tr></thead><tbody><tr><td>2020-11-30</td><td>90211</td><td>1</td><td>&quot;point&quot;</td><td>2020-11-30</td><td>49</td><td>0</td><td>0</td><td>0</td><td>2</td><td>59.68</td></tr><tr><td>2020-11-30</td><td>38905</td><td>2</td><td>&quot;send_money&quot;</td><td>2020-11-30</td><td>49</td><td>0</td><td>0</td><td>0</td><td>0</td><td>0.0</td></tr><tr><td>2020-11-30</td><td>52473</td><td>3</td><td>&quot;credits_consumer&quot;</td><td>2020-11-30</td><td>49</td><td>1</td><td>0</td><td>0</td><td>2</td><td>126.51</td></tr><tr><td>2020-11-30</td><td>50712</td><td>0</td><td>&quot;point&quot;</td><td>2020-11-30</td><td>49</td><td>0</td><td>0</td><td>0</td><td>0</td><td>0.0</td></tr><tr><td>2020-11-30</td><td>32071</td><td>3</td><td>&quot;point&quot;</td><td>2020-11-30</td><td>49</td><td>0</td><td>0</td><td>0</td><td>0</td><td>0.0</td></tr><tr><td>&hellip;</td><td>&hellip;</td><td>&hellip;</td><td>&hellip;</td><td>&hellip;</td><td>&hellip;</td><td>&hellip;</td><td>&hellip;</td><td>&hellip;</td><td>&hellip;</td><td>&hellip;</td></tr><tr><td>2020-11-30</td><td>41810</td><td>2</td><td>&quot;prepaid&quot;</td><td>2020-11-30</td><td>49</td><td>0</td><td>0</td><td>0</td><td>0</td><td>0.0</td></tr><tr><td>2020-11-30</td><td>83389</td><td>0</td><td>&quot;send_money&quot;</td><td>2020-11-30</td><td>49</td><td>0</td><td>0</td><td>0</td><td>1</td><td>99.24</td></tr><tr><td>2020-11-30</td><td>75902</td><td>2</td><td>&quot;credits_consumer&quot;</td><td>2020-11-30</td><td>49</td><td>0</td><td>0</td><td>0</td><td>2</td><td>85.82</td></tr><tr><td>2020-11-30</td><td>21802</td><td>0</td><td>&quot;cellphone_recharge&quot;</td><td>2020-11-30</td><td>49</td><td>0</td><td>0</td><td>0</td><td>1</td><td>37.36</td></tr><tr><td>2020-11-30</td><td>28410</td><td>2</td><td>&quot;cellphone_recharge&quot;</td><td>2020-11-30</td><td>49</td><td>0</td><td>0</td><td>0</td><td>1</td><td>72.31</td></tr></tbody></table></div>"
      ],
      "text/plain": [
       "shape: (14_667, 11)\n",
       "┌────────────┬─────────┬──────────┬────────────┬───┬───────────┬───────────┬───────────┬───────────┐\n",
       "│ day        ┆ user_id ┆ position ┆ value_prop ┆ … ┆ prints_pr ┆ taps_prev ┆ pays_prev ┆ total_amo │\n",
       "│ ---        ┆ ---     ┆ ---      ┆ ---        ┆   ┆ ev3w      ┆ 3w        ┆ 3w        ┆ unt_prev3 │\n",
       "│ date       ┆ i64     ┆ i64      ┆ str        ┆   ┆ ---       ┆ ---       ┆ ---       ┆ w         │\n",
       "│            ┆         ┆          ┆            ┆   ┆ i64       ┆ i64       ┆ i64       ┆ ---       │\n",
       "│            ┆         ┆          ┆            ┆   ┆           ┆           ┆           ┆ f64       │\n",
       "╞════════════╪═════════╪══════════╪════════════╪═══╪═══════════╪═══════════╪═══════════╪═══════════╡\n",
       "│ 2020-11-30 ┆ 90211   ┆ 1        ┆ point      ┆ … ┆ 0         ┆ 0         ┆ 2         ┆ 59.68     │\n",
       "│ 2020-11-30 ┆ 38905   ┆ 2        ┆ send_money ┆ … ┆ 0         ┆ 0         ┆ 0         ┆ 0.0       │\n",
       "│ 2020-11-30 ┆ 52473   ┆ 3        ┆ credits_co ┆ … ┆ 0         ┆ 0         ┆ 2         ┆ 126.51    │\n",
       "│            ┆         ┆          ┆ nsumer     ┆   ┆           ┆           ┆           ┆           │\n",
       "│ 2020-11-30 ┆ 50712   ┆ 0        ┆ point      ┆ … ┆ 0         ┆ 0         ┆ 0         ┆ 0.0       │\n",
       "│ 2020-11-30 ┆ 32071   ┆ 3        ┆ point      ┆ … ┆ 0         ┆ 0         ┆ 0         ┆ 0.0       │\n",
       "│ …          ┆ …       ┆ …        ┆ …          ┆ … ┆ …         ┆ …         ┆ …         ┆ …         │\n",
       "│ 2020-11-30 ┆ 41810   ┆ 2        ┆ prepaid    ┆ … ┆ 0         ┆ 0         ┆ 0         ┆ 0.0       │\n",
       "│ 2020-11-30 ┆ 83389   ┆ 0        ┆ send_money ┆ … ┆ 0         ┆ 0         ┆ 1         ┆ 99.24     │\n",
       "│ 2020-11-30 ┆ 75902   ┆ 2        ┆ credits_co ┆ … ┆ 0         ┆ 0         ┆ 2         ┆ 85.82     │\n",
       "│            ┆         ┆          ┆ nsumer     ┆   ┆           ┆           ┆           ┆           │\n",
       "│ 2020-11-30 ┆ 21802   ┆ 0        ┆ cellphone_ ┆ … ┆ 0         ┆ 0         ┆ 1         ┆ 37.36     │\n",
       "│            ┆         ┆          ┆ recharge   ┆   ┆           ┆           ┆           ┆           │\n",
       "│ 2020-11-30 ┆ 28410   ┆ 2        ┆ cellphone_ ┆ … ┆ 0         ┆ 0         ┆ 1         ┆ 72.31     │\n",
       "│            ┆         ┆          ┆ recharge   ┆   ┆           ┆           ┆           ┆           │\n",
       "└────────────┴─────────┴──────────┴────────────┴───┴───────────┴───────────┴───────────┴───────────┘"
      ]
     },
     "execution_count": 2,
     "metadata": {},
     "output_type": "execute_result"
    }
   ],
   "source": [
    "df"
   ]
  }
 ],
 "metadata": {
  "kernelspec": {
   "display_name": "venv",
   "language": "python",
   "name": "python3"
  },
  "language_info": {
   "codemirror_mode": {
    "name": "ipython",
    "version": 3
   },
   "file_extension": ".py",
   "mimetype": "text/x-python",
   "name": "python",
   "nbconvert_exporter": "python",
   "pygments_lexer": "ipython3",
   "version": "3.13.3"
  }
 },
 "nbformat": 4,
 "nbformat_minor": 5
}
