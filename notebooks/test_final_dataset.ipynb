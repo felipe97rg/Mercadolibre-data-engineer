{
 "cells": [
  {
   "cell_type": "code",
   "execution_count": 64,
   "id": "f7bb1c30",
   "metadata": {},
   "outputs": [
    {
     "name": "stdout",
     "output_type": "stream",
     "text": [
      "📊 Esquema del dataset final:\n",
      "Schema({'day': Date, 'user_id': Int64, 'position': Int64, 'value_prop': String, 'week': Int8, 'clicked': Int8, 'n_prints_prev3w': UInt32, 'n_taps_prev3w': UInt32, 'n_pays_prev3w': UInt32, 'sum_pays_prev3w': Float64})\n",
      "\n",
      "🔍 Muestras:\n",
      "shape: (10, 10)\n",
      "┌────────────┬─────────┬──────────┬────────────┬───┬───────────┬───────────┬───────────┬───────────┐\n",
      "│ day        ┆ user_id ┆ position ┆ value_prop ┆ … ┆ n_prints_ ┆ n_taps_pr ┆ n_pays_pr ┆ sum_pays_ │\n",
      "│ ---        ┆ ---     ┆ ---      ┆ ---        ┆   ┆ prev3w    ┆ ev3w      ┆ ev3w      ┆ prev3w    │\n",
      "│ date       ┆ i64     ┆ i64      ┆ str        ┆   ┆ ---       ┆ ---       ┆ ---       ┆ ---       │\n",
      "│            ┆         ┆          ┆            ┆   ┆ u32       ┆ u32       ┆ u32       ┆ f64       │\n",
      "╞════════════╪═════════╪══════════╪════════════╪═══╪═══════════╪═══════════╪═══════════╪═══════════╡\n",
      "│ 2020-11-30 ┆ 68065   ┆ 1        ┆ point      ┆ … ┆ 2         ┆ 0         ┆ 0         ┆ 0.0       │\n",
      "│ 2020-11-30 ┆ 23049   ┆ 3        ┆ transport  ┆ … ┆ 1         ┆ 0         ┆ 1         ┆ 7.9       │\n",
      "│ 2020-11-30 ┆ 12865   ┆ 0        ┆ point      ┆ … ┆ 1         ┆ 0         ┆ 0         ┆ 0.0       │\n",
      "│ 2020-11-30 ┆ 55536   ┆ 2        ┆ link_cobro ┆ … ┆ 0         ┆ 0         ┆ 0         ┆ 0.0       │\n",
      "│ 2020-11-30 ┆ 78024   ┆ 1        ┆ point      ┆ … ┆ 0         ┆ 0         ┆ 0         ┆ 0.0       │\n",
      "│ 2020-11-30 ┆ 54533   ┆ 1        ┆ cellphone_ ┆ … ┆ 0         ┆ 0         ┆ 1         ┆ 52.07     │\n",
      "│            ┆         ┆          ┆ recharge   ┆   ┆           ┆           ┆           ┆           │\n",
      "│ 2020-11-30 ┆ 80310   ┆ 0        ┆ send_money ┆ … ┆ 1         ┆ 0         ┆ 3         ┆ 124.46    │\n",
      "│ 2020-11-30 ┆ 54463   ┆ 1        ┆ point      ┆ … ┆ 0         ┆ 0         ┆ 0         ┆ 0.0       │\n",
      "│ 2020-11-30 ┆ 13433   ┆ 1        ┆ credits_co ┆ … ┆ 0         ┆ 0         ┆ 1         ┆ 33.34     │\n",
      "│            ┆         ┆          ┆ nsumer     ┆   ┆           ┆           ┆           ┆           │\n",
      "│ 2020-11-30 ┆ 41750   ┆ 2        ┆ send_money ┆ … ┆ 0         ┆ 0         ┆ 1         ┆ 10.86     │\n",
      "└────────────┴─────────┴──────────┴────────────┴───┴───────────┴───────────┴───────────┴───────────┘\n"
     ]
    }
   ],
   "source": [
    "# notebooks/test_final_dataset.ipynb\n",
    "\n",
    "import polars as pl\n",
    "import matplotlib.pyplot as plt\n",
    "\n",
    "# Cargar dataset generado\n",
    "df = pl.read_parquet(\"../output/final_dataset.parquet\")\n",
    "# df = pl.read_csv(\"../output/final_dataset.csv\")\n",
    "\n",
    "\n",
    "\n",
    "# Mostrar esquema y primeras filas\n",
    "print(\"📊 Esquema del dataset final:\")\n",
    "print(df.schema)\n",
    "\n",
    "print(\"\\n🔍 Muestras:\")\n",
    "print(df.head(10))\n",
    "\n",
    "\n"
   ]
  },
  {
   "cell_type": "code",
   "execution_count": 65,
   "id": "8cb5b936",
   "metadata": {},
   "outputs": [
    {
     "data": {
      "text/html": [
       "<div><style>\n",
       ".dataframe > thead > tr,\n",
       ".dataframe > tbody > tr {\n",
       "  text-align: right;\n",
       "  white-space: pre-wrap;\n",
       "}\n",
       "</style>\n",
       "<small>shape: (14_667, 10)</small><table border=\"1\" class=\"dataframe\"><thead><tr><th>day</th><th>user_id</th><th>position</th><th>value_prop</th><th>week</th><th>clicked</th><th>n_prints_prev3w</th><th>n_taps_prev3w</th><th>n_pays_prev3w</th><th>sum_pays_prev3w</th></tr><tr><td>date</td><td>i64</td><td>i64</td><td>str</td><td>i8</td><td>i8</td><td>u32</td><td>u32</td><td>u32</td><td>f64</td></tr></thead><tbody><tr><td>2020-11-30</td><td>68065</td><td>1</td><td>&quot;point&quot;</td><td>49</td><td>0</td><td>2</td><td>0</td><td>0</td><td>0.0</td></tr><tr><td>2020-11-30</td><td>23049</td><td>3</td><td>&quot;transport&quot;</td><td>49</td><td>0</td><td>1</td><td>0</td><td>1</td><td>7.9</td></tr><tr><td>2020-11-30</td><td>12865</td><td>0</td><td>&quot;point&quot;</td><td>49</td><td>0</td><td>1</td><td>0</td><td>0</td><td>0.0</td></tr><tr><td>2020-11-30</td><td>55536</td><td>2</td><td>&quot;link_cobro&quot;</td><td>49</td><td>0</td><td>0</td><td>0</td><td>0</td><td>0.0</td></tr><tr><td>2020-11-30</td><td>78024</td><td>1</td><td>&quot;point&quot;</td><td>49</td><td>0</td><td>0</td><td>0</td><td>0</td><td>0.0</td></tr><tr><td>&hellip;</td><td>&hellip;</td><td>&hellip;</td><td>&hellip;</td><td>&hellip;</td><td>&hellip;</td><td>&hellip;</td><td>&hellip;</td><td>&hellip;</td><td>&hellip;</td></tr><tr><td>2020-11-30</td><td>4000</td><td>0</td><td>&quot;credits_consumer&quot;</td><td>49</td><td>0</td><td>1</td><td>0</td><td>1</td><td>5.07</td></tr><tr><td>2020-11-30</td><td>13410</td><td>0</td><td>&quot;prepaid&quot;</td><td>49</td><td>0</td><td>0</td><td>0</td><td>1</td><td>2.63</td></tr><tr><td>2020-11-30</td><td>27244</td><td>0</td><td>&quot;prepaid&quot;</td><td>49</td><td>0</td><td>0</td><td>0</td><td>1</td><td>65.35</td></tr><tr><td>2020-11-30</td><td>3967</td><td>2</td><td>&quot;transport&quot;</td><td>49</td><td>0</td><td>0</td><td>0</td><td>1</td><td>13.98</td></tr><tr><td>2020-11-30</td><td>49099</td><td>2</td><td>&quot;prepaid&quot;</td><td>49</td><td>0</td><td>1</td><td>0</td><td>1</td><td>64.85</td></tr></tbody></table></div>"
      ],
      "text/plain": [
       "shape: (14_667, 10)\n",
       "┌────────────┬─────────┬──────────┬────────────┬───┬───────────┬───────────┬───────────┬───────────┐\n",
       "│ day        ┆ user_id ┆ position ┆ value_prop ┆ … ┆ n_prints_ ┆ n_taps_pr ┆ n_pays_pr ┆ sum_pays_ │\n",
       "│ ---        ┆ ---     ┆ ---      ┆ ---        ┆   ┆ prev3w    ┆ ev3w      ┆ ev3w      ┆ prev3w    │\n",
       "│ date       ┆ i64     ┆ i64      ┆ str        ┆   ┆ ---       ┆ ---       ┆ ---       ┆ ---       │\n",
       "│            ┆         ┆          ┆            ┆   ┆ u32       ┆ u32       ┆ u32       ┆ f64       │\n",
       "╞════════════╪═════════╪══════════╪════════════╪═══╪═══════════╪═══════════╪═══════════╪═══════════╡\n",
       "│ 2020-11-30 ┆ 68065   ┆ 1        ┆ point      ┆ … ┆ 2         ┆ 0         ┆ 0         ┆ 0.0       │\n",
       "│ 2020-11-30 ┆ 23049   ┆ 3        ┆ transport  ┆ … ┆ 1         ┆ 0         ┆ 1         ┆ 7.9       │\n",
       "│ 2020-11-30 ┆ 12865   ┆ 0        ┆ point      ┆ … ┆ 1         ┆ 0         ┆ 0         ┆ 0.0       │\n",
       "│ 2020-11-30 ┆ 55536   ┆ 2        ┆ link_cobro ┆ … ┆ 0         ┆ 0         ┆ 0         ┆ 0.0       │\n",
       "│ 2020-11-30 ┆ 78024   ┆ 1        ┆ point      ┆ … ┆ 0         ┆ 0         ┆ 0         ┆ 0.0       │\n",
       "│ …          ┆ …       ┆ …        ┆ …          ┆ … ┆ …         ┆ …         ┆ …         ┆ …         │\n",
       "│ 2020-11-30 ┆ 4000    ┆ 0        ┆ credits_co ┆ … ┆ 1         ┆ 0         ┆ 1         ┆ 5.07      │\n",
       "│            ┆         ┆          ┆ nsumer     ┆   ┆           ┆           ┆           ┆           │\n",
       "│ 2020-11-30 ┆ 13410   ┆ 0        ┆ prepaid    ┆ … ┆ 0         ┆ 0         ┆ 1         ┆ 2.63      │\n",
       "│ 2020-11-30 ┆ 27244   ┆ 0        ┆ prepaid    ┆ … ┆ 0         ┆ 0         ┆ 1         ┆ 65.35     │\n",
       "│ 2020-11-30 ┆ 3967    ┆ 2        ┆ transport  ┆ … ┆ 0         ┆ 0         ┆ 1         ┆ 13.98     │\n",
       "│ 2020-11-30 ┆ 49099   ┆ 2        ┆ prepaid    ┆ … ┆ 1         ┆ 0         ┆ 1         ┆ 64.85     │\n",
       "└────────────┴─────────┴──────────┴────────────┴───┴───────────┴───────────┴───────────┴───────────┘"
      ]
     },
     "execution_count": 65,
     "metadata": {},
     "output_type": "execute_result"
    }
   ],
   "source": [
    "df"
   ]
  },
  {
   "cell_type": "code",
   "execution_count": 66,
   "id": "9c0396a2",
   "metadata": {},
   "outputs": [
    {
     "data": {
      "text/html": [
       "<div><style>\n",
       ".dataframe > thead > tr,\n",
       ".dataframe > tbody > tr {\n",
       "  text-align: right;\n",
       "  white-space: pre-wrap;\n",
       "}\n",
       "</style>\n",
       "<small>shape: (14_667, 10)</small><table border=\"1\" class=\"dataframe\"><thead><tr><th>day</th><th>user_id</th><th>position</th><th>value_prop</th><th>week</th><th>clicked</th><th>n_prints_prev3w</th><th>n_taps_prev3w</th><th>n_pays_prev3w</th><th>sum_pays_prev3w</th></tr><tr><td>date</td><td>i64</td><td>i64</td><td>str</td><td>i8</td><td>i8</td><td>u32</td><td>u32</td><td>u32</td><td>f64</td></tr></thead><tbody><tr><td>2020-11-30</td><td>68065</td><td>1</td><td>&quot;point&quot;</td><td>49</td><td>0</td><td>2</td><td>0</td><td>0</td><td>0.0</td></tr><tr><td>2020-11-30</td><td>23049</td><td>3</td><td>&quot;transport&quot;</td><td>49</td><td>0</td><td>1</td><td>0</td><td>1</td><td>7.9</td></tr><tr><td>2020-11-30</td><td>12865</td><td>0</td><td>&quot;point&quot;</td><td>49</td><td>0</td><td>1</td><td>0</td><td>0</td><td>0.0</td></tr><tr><td>2020-11-30</td><td>55536</td><td>2</td><td>&quot;link_cobro&quot;</td><td>49</td><td>0</td><td>0</td><td>0</td><td>0</td><td>0.0</td></tr><tr><td>2020-11-30</td><td>78024</td><td>1</td><td>&quot;point&quot;</td><td>49</td><td>0</td><td>0</td><td>0</td><td>0</td><td>0.0</td></tr><tr><td>&hellip;</td><td>&hellip;</td><td>&hellip;</td><td>&hellip;</td><td>&hellip;</td><td>&hellip;</td><td>&hellip;</td><td>&hellip;</td><td>&hellip;</td><td>&hellip;</td></tr><tr><td>2020-11-30</td><td>4000</td><td>0</td><td>&quot;credits_consumer&quot;</td><td>49</td><td>0</td><td>1</td><td>0</td><td>1</td><td>5.07</td></tr><tr><td>2020-11-30</td><td>13410</td><td>0</td><td>&quot;prepaid&quot;</td><td>49</td><td>0</td><td>0</td><td>0</td><td>1</td><td>2.63</td></tr><tr><td>2020-11-30</td><td>27244</td><td>0</td><td>&quot;prepaid&quot;</td><td>49</td><td>0</td><td>0</td><td>0</td><td>1</td><td>65.35</td></tr><tr><td>2020-11-30</td><td>3967</td><td>2</td><td>&quot;transport&quot;</td><td>49</td><td>0</td><td>0</td><td>0</td><td>1</td><td>13.98</td></tr><tr><td>2020-11-30</td><td>49099</td><td>2</td><td>&quot;prepaid&quot;</td><td>49</td><td>0</td><td>1</td><td>0</td><td>1</td><td>64.85</td></tr></tbody></table></div>"
      ],
      "text/plain": [
       "shape: (14_667, 10)\n",
       "┌────────────┬─────────┬──────────┬────────────┬───┬───────────┬───────────┬───────────┬───────────┐\n",
       "│ day        ┆ user_id ┆ position ┆ value_prop ┆ … ┆ n_prints_ ┆ n_taps_pr ┆ n_pays_pr ┆ sum_pays_ │\n",
       "│ ---        ┆ ---     ┆ ---      ┆ ---        ┆   ┆ prev3w    ┆ ev3w      ┆ ev3w      ┆ prev3w    │\n",
       "│ date       ┆ i64     ┆ i64      ┆ str        ┆   ┆ ---       ┆ ---       ┆ ---       ┆ ---       │\n",
       "│            ┆         ┆          ┆            ┆   ┆ u32       ┆ u32       ┆ u32       ┆ f64       │\n",
       "╞════════════╪═════════╪══════════╪════════════╪═══╪═══════════╪═══════════╪═══════════╪═══════════╡\n",
       "│ 2020-11-30 ┆ 68065   ┆ 1        ┆ point      ┆ … ┆ 2         ┆ 0         ┆ 0         ┆ 0.0       │\n",
       "│ 2020-11-30 ┆ 23049   ┆ 3        ┆ transport  ┆ … ┆ 1         ┆ 0         ┆ 1         ┆ 7.9       │\n",
       "│ 2020-11-30 ┆ 12865   ┆ 0        ┆ point      ┆ … ┆ 1         ┆ 0         ┆ 0         ┆ 0.0       │\n",
       "│ 2020-11-30 ┆ 55536   ┆ 2        ┆ link_cobro ┆ … ┆ 0         ┆ 0         ┆ 0         ┆ 0.0       │\n",
       "│ 2020-11-30 ┆ 78024   ┆ 1        ┆ point      ┆ … ┆ 0         ┆ 0         ┆ 0         ┆ 0.0       │\n",
       "│ …          ┆ …       ┆ …        ┆ …          ┆ … ┆ …         ┆ …         ┆ …         ┆ …         │\n",
       "│ 2020-11-30 ┆ 4000    ┆ 0        ┆ credits_co ┆ … ┆ 1         ┆ 0         ┆ 1         ┆ 5.07      │\n",
       "│            ┆         ┆          ┆ nsumer     ┆   ┆           ┆           ┆           ┆           │\n",
       "│ 2020-11-30 ┆ 13410   ┆ 0        ┆ prepaid    ┆ … ┆ 0         ┆ 0         ┆ 1         ┆ 2.63      │\n",
       "│ 2020-11-30 ┆ 27244   ┆ 0        ┆ prepaid    ┆ … ┆ 0         ┆ 0         ┆ 1         ┆ 65.35     │\n",
       "│ 2020-11-30 ┆ 3967    ┆ 2        ┆ transport  ┆ … ┆ 0         ┆ 0         ┆ 1         ┆ 13.98     │\n",
       "│ 2020-11-30 ┆ 49099   ┆ 2        ┆ prepaid    ┆ … ┆ 1         ┆ 0         ┆ 1         ┆ 64.85     │\n",
       "└────────────┴─────────┴──────────┴────────────┴───┴───────────┴───────────┴───────────┴───────────┘"
      ]
     },
     "execution_count": 66,
     "metadata": {},
     "output_type": "execute_result"
    }
   ],
   "source": [
    "df"
   ]
  },
  {
   "cell_type": "code",
   "execution_count": 67,
   "id": "f93a142f",
   "metadata": {},
   "outputs": [
    {
     "data": {
      "text/html": [
       "<div><style>\n",
       ".dataframe > thead > tr,\n",
       ".dataframe > tbody > tr {\n",
       "  text-align: right;\n",
       "  white-space: pre-wrap;\n",
       "}\n",
       "</style>\n",
       "<small>shape: (6, 2)</small><table border=\"1\" class=\"dataframe\"><thead><tr><th>n_prints_prev3w</th><th>count</th></tr><tr><td>u32</td><td>u32</td></tr></thead><tbody><tr><td>3</td><td>161</td></tr><tr><td>2</td><td>1123</td></tr><tr><td>1</td><td>4519</td></tr><tr><td>4</td><td>19</td></tr><tr><td>5</td><td>1</td></tr><tr><td>0</td><td>8844</td></tr></tbody></table></div>"
      ],
      "text/plain": [
       "shape: (6, 2)\n",
       "┌─────────────────┬───────┐\n",
       "│ n_prints_prev3w ┆ count │\n",
       "│ ---             ┆ ---   │\n",
       "│ u32             ┆ u32   │\n",
       "╞═════════════════╪═══════╡\n",
       "│ 3               ┆ 161   │\n",
       "│ 2               ┆ 1123  │\n",
       "│ 1               ┆ 4519  │\n",
       "│ 4               ┆ 19    │\n",
       "│ 5               ┆ 1     │\n",
       "│ 0               ┆ 8844  │\n",
       "└─────────────────┴───────┘"
      ]
     },
     "execution_count": 67,
     "metadata": {},
     "output_type": "execute_result"
    }
   ],
   "source": [
    "df['n_prints_prev3w'].value_counts()"
   ]
  },
  {
   "cell_type": "code",
   "execution_count": 68,
   "id": "a1812aae",
   "metadata": {},
   "outputs": [
    {
     "data": {
      "text/html": [
       "<div><style>\n",
       ".dataframe > thead > tr,\n",
       ".dataframe > tbody > tr {\n",
       "  text-align: right;\n",
       "  white-space: pre-wrap;\n",
       "}\n",
       "</style>\n",
       "<small>shape: (4, 2)</small><table border=\"1\" class=\"dataframe\"><thead><tr><th>n_taps_prev3w</th><th>count</th></tr><tr><td>u32</td><td>u32</td></tr></thead><tbody><tr><td>1</td><td>702</td></tr><tr><td>3</td><td>1</td></tr><tr><td>0</td><td>13948</td></tr><tr><td>2</td><td>16</td></tr></tbody></table></div>"
      ],
      "text/plain": [
       "shape: (4, 2)\n",
       "┌───────────────┬───────┐\n",
       "│ n_taps_prev3w ┆ count │\n",
       "│ ---           ┆ ---   │\n",
       "│ u32           ┆ u32   │\n",
       "╞═══════════════╪═══════╡\n",
       "│ 1             ┆ 702   │\n",
       "│ 3             ┆ 1     │\n",
       "│ 0             ┆ 13948 │\n",
       "│ 2             ┆ 16    │\n",
       "└───────────────┴───────┘"
      ]
     },
     "execution_count": 68,
     "metadata": {},
     "output_type": "execute_result"
    }
   ],
   "source": [
    "df['n_taps_prev3w'].value_counts()"
   ]
  },
  {
   "cell_type": "code",
   "execution_count": 69,
   "id": "72be1076",
   "metadata": {},
   "outputs": [
    {
     "data": {
      "text/html": [
       "<div><style>\n",
       ".dataframe > thead > tr,\n",
       ".dataframe > tbody > tr {\n",
       "  text-align: right;\n",
       "  white-space: pre-wrap;\n",
       "}\n",
       "</style>\n",
       "<small>shape: (7, 2)</small><table border=\"1\" class=\"dataframe\"><thead><tr><th>n_pays_prev3w</th><th>count</th></tr><tr><td>u32</td><td>u32</td></tr></thead><tbody><tr><td>1</td><td>5367</td></tr><tr><td>0</td><td>6712</td></tr><tr><td>3</td><td>497</td></tr><tr><td>4</td><td>73</td></tr><tr><td>6</td><td>1</td></tr><tr><td>2</td><td>2008</td></tr><tr><td>5</td><td>9</td></tr></tbody></table></div>"
      ],
      "text/plain": [
       "shape: (7, 2)\n",
       "┌───────────────┬───────┐\n",
       "│ n_pays_prev3w ┆ count │\n",
       "│ ---           ┆ ---   │\n",
       "│ u32           ┆ u32   │\n",
       "╞═══════════════╪═══════╡\n",
       "│ 1             ┆ 5367  │\n",
       "│ 0             ┆ 6712  │\n",
       "│ 3             ┆ 497   │\n",
       "│ 4             ┆ 73    │\n",
       "│ 6             ┆ 1     │\n",
       "│ 2             ┆ 2008  │\n",
       "│ 5             ┆ 9     │\n",
       "└───────────────┴───────┘"
      ]
     },
     "execution_count": 69,
     "metadata": {},
     "output_type": "execute_result"
    }
   ],
   "source": [
    "df['n_pays_prev3w'].value_counts()\n"
   ]
  },
  {
   "cell_type": "code",
   "execution_count": 70,
   "id": "276e6131",
   "metadata": {},
   "outputs": [
    {
     "data": {
      "text/html": [
       "<div><style>\n",
       ".dataframe > thead > tr,\n",
       ".dataframe > tbody > tr {\n",
       "  text-align: right;\n",
       "  white-space: pre-wrap;\n",
       "}\n",
       "</style>\n",
       "<small>shape: (6_409, 2)</small><table border=\"1\" class=\"dataframe\"><thead><tr><th>sum_pays_prev3w</th><th>count</th></tr><tr><td>f64</td><td>u32</td></tr></thead><tbody><tr><td>178.81</td><td>1</td></tr><tr><td>104.12</td><td>2</td></tr><tr><td>60.02</td><td>1</td></tr><tr><td>1.11</td><td>3</td></tr><tr><td>9.06</td><td>1</td></tr><tr><td>&hellip;</td><td>&hellip;</td></tr><tr><td>73.6</td><td>1</td></tr><tr><td>121.15</td><td>1</td></tr><tr><td>103.91</td><td>1</td></tr><tr><td>98.0</td><td>1</td></tr><tr><td>14.87</td><td>1</td></tr></tbody></table></div>"
      ],
      "text/plain": [
       "shape: (6_409, 2)\n",
       "┌─────────────────┬───────┐\n",
       "│ sum_pays_prev3w ┆ count │\n",
       "│ ---             ┆ ---   │\n",
       "│ f64             ┆ u32   │\n",
       "╞═════════════════╪═══════╡\n",
       "│ 178.81          ┆ 1     │\n",
       "│ 104.12          ┆ 2     │\n",
       "│ 60.02           ┆ 1     │\n",
       "│ 1.11            ┆ 3     │\n",
       "│ 9.06            ┆ 1     │\n",
       "│ …               ┆ …     │\n",
       "│ 73.6            ┆ 1     │\n",
       "│ 121.15          ┆ 1     │\n",
       "│ 103.91          ┆ 1     │\n",
       "│ 98.0            ┆ 1     │\n",
       "│ 14.87           ┆ 1     │\n",
       "└─────────────────┴───────┘"
      ]
     },
     "execution_count": 70,
     "metadata": {},
     "output_type": "execute_result"
    }
   ],
   "source": [
    "df['sum_pays_prev3w'].value_counts()\n"
   ]
  }
 ],
 "metadata": {
  "kernelspec": {
   "display_name": "venv",
   "language": "python",
   "name": "python3"
  },
  "language_info": {
   "codemirror_mode": {
    "name": "ipython",
    "version": 3
   },
   "file_extension": ".py",
   "mimetype": "text/x-python",
   "name": "python",
   "nbconvert_exporter": "python",
   "pygments_lexer": "ipython3",
   "version": "3.13.3"
  }
 },
 "nbformat": 4,
 "nbformat_minor": 5
}
