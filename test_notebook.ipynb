{
 "cells": [
  {
   "cell_type": "code",
   "execution_count": 16,
   "id": "ff6f63eb",
   "metadata": {},
   "outputs": [
    {
     "name": "stdout",
     "output_type": "stream",
     "text": [
      "PRINTS: Filas limpias -> 508617 (eliminadas 0)\n",
      "TAPS: Filas limpias -> 50859 (eliminadas 0)\n",
      "PAYS: Filas limpias -> 756483 (eliminadas 0)\n"
     ]
    }
   ],
   "source": [
    "from src.data_loader import load_all_data\n",
    "prints, taps, pays = load_all_data()"
   ]
  },
  {
   "cell_type": "code",
   "execution_count": 35,
   "id": "bccf5d56",
   "metadata": {},
   "outputs": [
    {
     "name": "stdout",
     "output_type": "stream",
     "text": [
      "PRINTS: Filas limpias -> 508617 (eliminadas 0)\n",
      "TAPS: Filas limpias -> 50859 (eliminadas 0)\n",
      "PAYS: Filas limpias -> 756483 (eliminadas 0)\n"
     ]
    }
   ],
   "source": [
    "from src.data_loader_polars import load_all_data\n",
    "\n",
    "# Cargar los datos\n",
    "prints, taps, pays = load_all_data()\n",
    "# Vista previa de los datos de prints"
   ]
  },
  {
   "cell_type": "code",
   "execution_count": 36,
   "id": "ee8c542e",
   "metadata": {},
   "outputs": [
    {
     "data": {
      "text/plain": [
       "['day', 'user_id', 'position', 'value_prop', 'timestamp', 'week']"
      ]
     },
     "execution_count": 36,
     "metadata": {},
     "output_type": "execute_result"
    }
   ],
   "source": [
    "taps.columns"
   ]
  },
  {
   "cell_type": "code",
   "execution_count": 37,
   "id": "b1fe4adf",
   "metadata": {},
   "outputs": [
    {
     "data": {
      "text/html": [
       "<div><style>\n",
       ".dataframe > thead > tr,\n",
       ".dataframe > tbody > tr {\n",
       "  text-align: right;\n",
       "  white-space: pre-wrap;\n",
       "}\n",
       "</style>\n",
       "<small>shape: (50_859, 6)</small><table border=\"1\" class=\"dataframe\"><thead><tr><th>day</th><th>user_id</th><th>position</th><th>value_prop</th><th>timestamp</th><th>week</th></tr><tr><td>date</td><td>i64</td><td>i64</td><td>str</td><td>date</td><td>i8</td></tr></thead><tbody><tr><td>2020-11-21</td><td>89084</td><td>3</td><td>&quot;link_cobro&quot;</td><td>2020-11-21</td><td>47</td></tr><tr><td>2020-11-14</td><td>11166</td><td>1</td><td>&quot;point&quot;</td><td>2020-11-14</td><td>46</td></tr><tr><td>2020-11-21</td><td>32134</td><td>2</td><td>&quot;point&quot;</td><td>2020-11-21</td><td>47</td></tr><tr><td>2020-11-24</td><td>67675</td><td>2</td><td>&quot;link_cobro&quot;</td><td>2020-11-24</td><td>48</td></tr><tr><td>2020-11-27</td><td>36887</td><td>0</td><td>&quot;credits_consumer&quot;</td><td>2020-11-27</td><td>48</td></tr><tr><td>&hellip;</td><td>&hellip;</td><td>&hellip;</td><td>&hellip;</td><td>&hellip;</td><td>&hellip;</td></tr><tr><td>2020-11-13</td><td>93339</td><td>1</td><td>&quot;point&quot;</td><td>2020-11-13</td><td>46</td></tr><tr><td>2020-11-17</td><td>88268</td><td>0</td><td>&quot;link_cobro&quot;</td><td>2020-11-17</td><td>47</td></tr><tr><td>2020-11-22</td><td>49413</td><td>2</td><td>&quot;prepaid&quot;</td><td>2020-11-22</td><td>47</td></tr><tr><td>2020-11-07</td><td>7425</td><td>1</td><td>&quot;transport&quot;</td><td>2020-11-07</td><td>45</td></tr><tr><td>2020-11-06</td><td>51387</td><td>3</td><td>&quot;send_money&quot;</td><td>2020-11-06</td><td>45</td></tr></tbody></table></div>"
      ],
      "text/plain": [
       "shape: (50_859, 6)\n",
       "┌────────────┬─────────┬──────────┬──────────────────┬────────────┬──────┐\n",
       "│ day        ┆ user_id ┆ position ┆ value_prop       ┆ timestamp  ┆ week │\n",
       "│ ---        ┆ ---     ┆ ---      ┆ ---              ┆ ---        ┆ ---  │\n",
       "│ date       ┆ i64     ┆ i64      ┆ str              ┆ date       ┆ i8   │\n",
       "╞════════════╪═════════╪══════════╪══════════════════╪════════════╪══════╡\n",
       "│ 2020-11-21 ┆ 89084   ┆ 3        ┆ link_cobro       ┆ 2020-11-21 ┆ 47   │\n",
       "│ 2020-11-14 ┆ 11166   ┆ 1        ┆ point            ┆ 2020-11-14 ┆ 46   │\n",
       "│ 2020-11-21 ┆ 32134   ┆ 2        ┆ point            ┆ 2020-11-21 ┆ 47   │\n",
       "│ 2020-11-24 ┆ 67675   ┆ 2        ┆ link_cobro       ┆ 2020-11-24 ┆ 48   │\n",
       "│ 2020-11-27 ┆ 36887   ┆ 0        ┆ credits_consumer ┆ 2020-11-27 ┆ 48   │\n",
       "│ …          ┆ …       ┆ …        ┆ …                ┆ …          ┆ …    │\n",
       "│ 2020-11-13 ┆ 93339   ┆ 1        ┆ point            ┆ 2020-11-13 ┆ 46   │\n",
       "│ 2020-11-17 ┆ 88268   ┆ 0        ┆ link_cobro       ┆ 2020-11-17 ┆ 47   │\n",
       "│ 2020-11-22 ┆ 49413   ┆ 2        ┆ prepaid          ┆ 2020-11-22 ┆ 47   │\n",
       "│ 2020-11-07 ┆ 7425    ┆ 1        ┆ transport        ┆ 2020-11-07 ┆ 45   │\n",
       "│ 2020-11-06 ┆ 51387   ┆ 3        ┆ send_money       ┆ 2020-11-06 ┆ 45   │\n",
       "└────────────┴─────────┴──────────┴──────────────────┴────────────┴──────┘"
      ]
     },
     "execution_count": 37,
     "metadata": {},
     "output_type": "execute_result"
    }
   ],
   "source": [
    "taps"
   ]
  },
  {
   "cell_type": "code",
   "execution_count": 38,
   "id": "d89743d8",
   "metadata": {},
   "outputs": [
    {
     "data": {
      "text/html": [
       "<div><style>\n",
       ".dataframe > thead > tr,\n",
       ".dataframe > tbody > tr {\n",
       "  text-align: right;\n",
       "  white-space: pre-wrap;\n",
       "}\n",
       "</style>\n",
       "<small>shape: (6, 6)</small><table border=\"1\" class=\"dataframe\"><thead><tr><th>day</th><th>user_id</th><th>position</th><th>value_prop</th><th>timestamp</th><th>week</th></tr><tr><td>date</td><td>i64</td><td>i64</td><td>str</td><td>date</td><td>i8</td></tr></thead><tbody><tr><td>2020-11-18</td><td>45538</td><td>0</td><td>&quot;cellphone_recharge&quot;</td><td>2020-11-18</td><td>47</td></tr><tr><td>2020-11-18</td><td>45538</td><td>2</td><td>&quot;credits_consumer&quot;</td><td>2020-11-18</td><td>47</td></tr><tr><td>2020-11-18</td><td>45538</td><td>3</td><td>&quot;send_money&quot;</td><td>2020-11-18</td><td>47</td></tr><tr><td>2020-11-09</td><td>45538</td><td>0</td><td>&quot;send_money&quot;</td><td>2020-11-09</td><td>46</td></tr><tr><td>2020-11-30</td><td>45538</td><td>0</td><td>&quot;credits_consumer&quot;</td><td>2020-11-30</td><td>49</td></tr><tr><td>2020-11-18</td><td>45538</td><td>1</td><td>&quot;link_cobro&quot;</td><td>2020-11-18</td><td>47</td></tr></tbody></table></div>"
      ],
      "text/plain": [
       "shape: (6, 6)\n",
       "┌────────────┬─────────┬──────────┬────────────────────┬────────────┬──────┐\n",
       "│ day        ┆ user_id ┆ position ┆ value_prop         ┆ timestamp  ┆ week │\n",
       "│ ---        ┆ ---     ┆ ---      ┆ ---                ┆ ---        ┆ ---  │\n",
       "│ date       ┆ i64     ┆ i64      ┆ str                ┆ date       ┆ i8   │\n",
       "╞════════════╪═════════╪══════════╪════════════════════╪════════════╪══════╡\n",
       "│ 2020-11-18 ┆ 45538   ┆ 0        ┆ cellphone_recharge ┆ 2020-11-18 ┆ 47   │\n",
       "│ 2020-11-18 ┆ 45538   ┆ 2        ┆ credits_consumer   ┆ 2020-11-18 ┆ 47   │\n",
       "│ 2020-11-18 ┆ 45538   ┆ 3        ┆ send_money         ┆ 2020-11-18 ┆ 47   │\n",
       "│ 2020-11-09 ┆ 45538   ┆ 0        ┆ send_money         ┆ 2020-11-09 ┆ 46   │\n",
       "│ 2020-11-30 ┆ 45538   ┆ 0        ┆ credits_consumer   ┆ 2020-11-30 ┆ 49   │\n",
       "│ 2020-11-18 ┆ 45538   ┆ 1        ┆ link_cobro         ┆ 2020-11-18 ┆ 47   │\n",
       "└────────────┴─────────┴──────────┴────────────────────┴────────────┴──────┘"
      ]
     },
     "execution_count": 38,
     "metadata": {},
     "output_type": "execute_result"
    }
   ],
   "source": [
    "prints.filter(prints['user_id'] == 45538)"
   ]
  },
  {
   "cell_type": "code",
   "execution_count": 39,
   "id": "0d2849fd",
   "metadata": {},
   "outputs": [
    {
     "data": {
      "text/plain": [
       "['pay_date', 'total', 'user_id', 'value_prop', 'timestamp', 'day', 'week']"
      ]
     },
     "execution_count": 39,
     "metadata": {},
     "output_type": "execute_result"
    }
   ],
   "source": [
    "pays.columns"
   ]
  },
  {
   "cell_type": "code",
   "execution_count": 40,
   "id": "59f12392",
   "metadata": {},
   "outputs": [
    {
     "data": {
      "text/html": [
       "<div><style>\n",
       ".dataframe > thead > tr,\n",
       ".dataframe > tbody > tr {\n",
       "  text-align: right;\n",
       "  white-space: pre-wrap;\n",
       "}\n",
       "</style>\n",
       "<small>shape: (756_483, 7)</small><table border=\"1\" class=\"dataframe\"><thead><tr><th>pay_date</th><th>total</th><th>user_id</th><th>value_prop</th><th>timestamp</th><th>day</th><th>week</th></tr><tr><td>str</td><td>f64</td><td>i64</td><td>str</td><td>date</td><td>date</td><td>i8</td></tr></thead><tbody><tr><td>&quot;2020-11-30&quot;</td><td>4.55</td><td>6142</td><td>&quot;prepaid&quot;</td><td>2020-11-30</td><td>2020-11-30</td><td>49</td></tr><tr><td>&quot;2020-11-19&quot;</td><td>87.42</td><td>74312</td><td>&quot;prepaid&quot;</td><td>2020-11-19</td><td>2020-11-19</td><td>47</td></tr><tr><td>&quot;2020-11-10&quot;</td><td>88.88</td><td>92601</td><td>&quot;prepaid&quot;</td><td>2020-11-10</td><td>2020-11-10</td><td>46</td></tr><tr><td>&quot;2020-11-24&quot;</td><td>96.55</td><td>86719</td><td>&quot;link_cobro&quot;</td><td>2020-11-24</td><td>2020-11-24</td><td>48</td></tr><tr><td>&quot;2020-11-10&quot;</td><td>130.9</td><td>42955</td><td>&quot;send_money&quot;</td><td>2020-11-10</td><td>2020-11-10</td><td>46</td></tr><tr><td>&hellip;</td><td>&hellip;</td><td>&hellip;</td><td>&hellip;</td><td>&hellip;</td><td>&hellip;</td><td>&hellip;</td></tr><tr><td>&quot;2020-11-30&quot;</td><td>27.62</td><td>24143</td><td>&quot;credits_consumer&quot;</td><td>2020-11-30</td><td>2020-11-30</td><td>49</td></tr><tr><td>&quot;2020-11-11&quot;</td><td>35.58</td><td>59239</td><td>&quot;cellphone_recharge&quot;</td><td>2020-11-11</td><td>2020-11-11</td><td>46</td></tr><tr><td>&quot;2020-11-17&quot;</td><td>73.39</td><td>11000</td><td>&quot;cellphone_recharge&quot;</td><td>2020-11-17</td><td>2020-11-17</td><td>47</td></tr><tr><td>&quot;2020-11-20&quot;</td><td>12.72</td><td>42270</td><td>&quot;send_money&quot;</td><td>2020-11-20</td><td>2020-11-20</td><td>47</td></tr><tr><td>&quot;2020-11-28&quot;</td><td>13.32</td><td>69720</td><td>&quot;link_cobro&quot;</td><td>2020-11-28</td><td>2020-11-28</td><td>48</td></tr></tbody></table></div>"
      ],
      "text/plain": [
       "shape: (756_483, 7)\n",
       "┌────────────┬───────┬─────────┬────────────────────┬────────────┬────────────┬──────┐\n",
       "│ pay_date   ┆ total ┆ user_id ┆ value_prop         ┆ timestamp  ┆ day        ┆ week │\n",
       "│ ---        ┆ ---   ┆ ---     ┆ ---                ┆ ---        ┆ ---        ┆ ---  │\n",
       "│ str        ┆ f64   ┆ i64     ┆ str                ┆ date       ┆ date       ┆ i8   │\n",
       "╞════════════╪═══════╪═════════╪════════════════════╪════════════╪════════════╪══════╡\n",
       "│ 2020-11-30 ┆ 4.55  ┆ 6142    ┆ prepaid            ┆ 2020-11-30 ┆ 2020-11-30 ┆ 49   │\n",
       "│ 2020-11-19 ┆ 87.42 ┆ 74312   ┆ prepaid            ┆ 2020-11-19 ┆ 2020-11-19 ┆ 47   │\n",
       "│ 2020-11-10 ┆ 88.88 ┆ 92601   ┆ prepaid            ┆ 2020-11-10 ┆ 2020-11-10 ┆ 46   │\n",
       "│ 2020-11-24 ┆ 96.55 ┆ 86719   ┆ link_cobro         ┆ 2020-11-24 ┆ 2020-11-24 ┆ 48   │\n",
       "│ 2020-11-10 ┆ 130.9 ┆ 42955   ┆ send_money         ┆ 2020-11-10 ┆ 2020-11-10 ┆ 46   │\n",
       "│ …          ┆ …     ┆ …       ┆ …                  ┆ …          ┆ …          ┆ …    │\n",
       "│ 2020-11-30 ┆ 27.62 ┆ 24143   ┆ credits_consumer   ┆ 2020-11-30 ┆ 2020-11-30 ┆ 49   │\n",
       "│ 2020-11-11 ┆ 35.58 ┆ 59239   ┆ cellphone_recharge ┆ 2020-11-11 ┆ 2020-11-11 ┆ 46   │\n",
       "│ 2020-11-17 ┆ 73.39 ┆ 11000   ┆ cellphone_recharge ┆ 2020-11-17 ┆ 2020-11-17 ┆ 47   │\n",
       "│ 2020-11-20 ┆ 12.72 ┆ 42270   ┆ send_money         ┆ 2020-11-20 ┆ 2020-11-20 ┆ 47   │\n",
       "│ 2020-11-28 ┆ 13.32 ┆ 69720   ┆ link_cobro         ┆ 2020-11-28 ┆ 2020-11-28 ┆ 48   │\n",
       "└────────────┴───────┴─────────┴────────────────────┴────────────┴────────────┴──────┘"
      ]
     },
     "execution_count": 40,
     "metadata": {},
     "output_type": "execute_result"
    }
   ],
   "source": [
    "pays"
   ]
  },
  {
   "cell_type": "code",
   "execution_count": null,
   "id": "a5b34517",
   "metadata": {},
   "outputs": [],
   "source": []
  }
 ],
 "metadata": {
  "kernelspec": {
   "display_name": "venv",
   "language": "python",
   "name": "python3"
  },
  "language_info": {
   "codemirror_mode": {
    "name": "ipython",
    "version": 3
   },
   "file_extension": ".py",
   "mimetype": "text/x-python",
   "name": "python",
   "nbconvert_exporter": "python",
   "pygments_lexer": "ipython3",
   "version": "3.13.3"
  }
 },
 "nbformat": 4,
 "nbformat_minor": 5
}
