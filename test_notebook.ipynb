{
 "cells": [
  {
   "cell_type": "code",
   "execution_count": 1,
   "id": "ff6f63eb",
   "metadata": {},
   "outputs": [
    {
     "name": "stdout",
     "output_type": "stream",
     "text": [
      "PRINTS: Filas limpias -> 508617 (eliminadas 0)\n",
      "TAPS: Filas limpias -> 50859 (eliminadas 0)\n",
      "PAYS: Filas limpias -> 756483 (eliminadas 0)\n"
     ]
    }
   ],
   "source": [
    "from src.data_loader import load_all_data\n",
    "prints, taps, pays = load_all_data()"
   ]
  },
  {
   "cell_type": "code",
   "execution_count": 1,
   "id": "bccf5d56",
   "metadata": {},
   "outputs": [
    {
     "name": "stdout",
     "output_type": "stream",
     "text": [
      "PRINTS: Filas limpias -> 508617 (eliminadas 0)\n",
      "TAPS: Filas limpias -> 50859 (eliminadas 0)\n",
      "PAYS: Filas limpias -> 756483 (eliminadas 0)\n"
     ]
    }
   ],
   "source": [
    "from src.data_loader_polars import load_all_data\n",
    "\n",
    "# Cargar los datos\n",
    "prints, taps, pays = load_all_data()\n",
    "# Vista previa de los datos de prints"
   ]
  },
  {
   "cell_type": "code",
   "execution_count": 2,
   "id": "ee8c542e",
   "metadata": {},
   "outputs": [
    {
     "data": {
      "text/plain": [
       "['day', 'user_id', 'position', 'value_prop', 'timestamp', 'week']"
      ]
     },
     "execution_count": 2,
     "metadata": {},
     "output_type": "execute_result"
    }
   ],
   "source": [
    "taps.columns"
   ]
  },
  {
   "cell_type": "code",
   "execution_count": 3,
   "id": "55cc279e",
   "metadata": {},
   "outputs": [
    {
     "data": {
      "text/plain": [
       "['day', 'user_id', 'position', 'value_prop', 'timestamp', 'week']"
      ]
     },
     "execution_count": 3,
     "metadata": {},
     "output_type": "execute_result"
    }
   ],
   "source": [
    "prints.columns"
   ]
  },
  {
   "cell_type": "code",
   "execution_count": 4,
   "id": "d89743d8",
   "metadata": {},
   "outputs": [
    {
     "data": {
      "text/html": [
       "<div><style>\n",
       ".dataframe > thead > tr,\n",
       ".dataframe > tbody > tr {\n",
       "  text-align: right;\n",
       "  white-space: pre-wrap;\n",
       "}\n",
       "</style>\n",
       "<small>shape: (508_617, 6)</small><table border=\"1\" class=\"dataframe\"><thead><tr><th>day</th><th>user_id</th><th>position</th><th>value_prop</th><th>timestamp</th><th>week</th></tr><tr><td>date</td><td>i64</td><td>i64</td><td>str</td><td>date</td><td>i8</td></tr></thead><tbody><tr><td>2020-11-11</td><td>82624</td><td>1</td><td>&quot;transport&quot;</td><td>2020-11-11</td><td>46</td></tr><tr><td>2020-11-01</td><td>13630</td><td>1</td><td>&quot;prepaid&quot;</td><td>2020-11-01</td><td>44</td></tr><tr><td>2020-11-19</td><td>1071</td><td>1</td><td>&quot;send_money&quot;</td><td>2020-11-19</td><td>47</td></tr><tr><td>2020-11-01</td><td>3648</td><td>0</td><td>&quot;cellphone_recharge&quot;</td><td>2020-11-01</td><td>44</td></tr><tr><td>2020-11-19</td><td>21784</td><td>0</td><td>&quot;credits_consumer&quot;</td><td>2020-11-19</td><td>47</td></tr><tr><td>&hellip;</td><td>&hellip;</td><td>&hellip;</td><td>&hellip;</td><td>&hellip;</td><td>&hellip;</td></tr><tr><td>2020-11-16</td><td>30092</td><td>1</td><td>&quot;cellphone_recharge&quot;</td><td>2020-11-16</td><td>47</td></tr><tr><td>2020-11-28</td><td>34825</td><td>0</td><td>&quot;credits_consumer&quot;</td><td>2020-11-28</td><td>48</td></tr><tr><td>2020-11-14</td><td>67474</td><td>0</td><td>&quot;point&quot;</td><td>2020-11-14</td><td>46</td></tr><tr><td>2020-11-08</td><td>86983</td><td>0</td><td>&quot;prepaid&quot;</td><td>2020-11-08</td><td>45</td></tr><tr><td>2020-11-29</td><td>80749</td><td>2</td><td>&quot;transport&quot;</td><td>2020-11-29</td><td>48</td></tr></tbody></table></div>"
      ],
      "text/plain": [
       "shape: (508_617, 6)\n",
       "┌────────────┬─────────┬──────────┬────────────────────┬────────────┬──────┐\n",
       "│ day        ┆ user_id ┆ position ┆ value_prop         ┆ timestamp  ┆ week │\n",
       "│ ---        ┆ ---     ┆ ---      ┆ ---                ┆ ---        ┆ ---  │\n",
       "│ date       ┆ i64     ┆ i64      ┆ str                ┆ date       ┆ i8   │\n",
       "╞════════════╪═════════╪══════════╪════════════════════╪════════════╪══════╡\n",
       "│ 2020-11-11 ┆ 82624   ┆ 1        ┆ transport          ┆ 2020-11-11 ┆ 46   │\n",
       "│ 2020-11-01 ┆ 13630   ┆ 1        ┆ prepaid            ┆ 2020-11-01 ┆ 44   │\n",
       "│ 2020-11-19 ┆ 1071    ┆ 1        ┆ send_money         ┆ 2020-11-19 ┆ 47   │\n",
       "│ 2020-11-01 ┆ 3648    ┆ 0        ┆ cellphone_recharge ┆ 2020-11-01 ┆ 44   │\n",
       "│ 2020-11-19 ┆ 21784   ┆ 0        ┆ credits_consumer   ┆ 2020-11-19 ┆ 47   │\n",
       "│ …          ┆ …       ┆ …        ┆ …                  ┆ …          ┆ …    │\n",
       "│ 2020-11-16 ┆ 30092   ┆ 1        ┆ cellphone_recharge ┆ 2020-11-16 ┆ 47   │\n",
       "│ 2020-11-28 ┆ 34825   ┆ 0        ┆ credits_consumer   ┆ 2020-11-28 ┆ 48   │\n",
       "│ 2020-11-14 ┆ 67474   ┆ 0        ┆ point              ┆ 2020-11-14 ┆ 46   │\n",
       "│ 2020-11-08 ┆ 86983   ┆ 0        ┆ prepaid            ┆ 2020-11-08 ┆ 45   │\n",
       "│ 2020-11-29 ┆ 80749   ┆ 2        ┆ transport          ┆ 2020-11-29 ┆ 48   │\n",
       "└────────────┴─────────┴──────────┴────────────────────┴────────────┴──────┘"
      ]
     },
     "execution_count": 4,
     "metadata": {},
     "output_type": "execute_result"
    }
   ],
   "source": [
    "prints"
   ]
  },
  {
   "cell_type": "code",
   "execution_count": 5,
   "id": "0d2849fd",
   "metadata": {},
   "outputs": [
    {
     "data": {
      "text/plain": [
       "['pay_date', 'total', 'user_id', 'value_prop', 'timestamp', 'day', 'week']"
      ]
     },
     "execution_count": 5,
     "metadata": {},
     "output_type": "execute_result"
    }
   ],
   "source": [
    "pays.columns"
   ]
  },
  {
   "cell_type": "code",
   "execution_count": 6,
   "id": "59f12392",
   "metadata": {},
   "outputs": [
    {
     "data": {
      "text/html": [
       "<div><style>\n",
       ".dataframe > thead > tr,\n",
       ".dataframe > tbody > tr {\n",
       "  text-align: right;\n",
       "  white-space: pre-wrap;\n",
       "}\n",
       "</style>\n",
       "<small>shape: (756_483, 7)</small><table border=\"1\" class=\"dataframe\"><thead><tr><th>pay_date</th><th>total</th><th>user_id</th><th>value_prop</th><th>timestamp</th><th>day</th><th>week</th></tr><tr><td>str</td><td>f64</td><td>i64</td><td>str</td><td>date</td><td>date</td><td>i8</td></tr></thead><tbody><tr><td>&quot;2020-11-21&quot;</td><td>56.24</td><td>23617</td><td>&quot;cellphone_recharge&quot;</td><td>2020-11-21</td><td>2020-11-21</td><td>47</td></tr><tr><td>&quot;2020-11-05&quot;</td><td>23.11</td><td>52363</td><td>&quot;credits_consumer&quot;</td><td>2020-11-05</td><td>2020-11-05</td><td>45</td></tr><tr><td>&quot;2020-11-24&quot;</td><td>37.69</td><td>20574</td><td>&quot;cellphone_recharge&quot;</td><td>2020-11-24</td><td>2020-11-24</td><td>48</td></tr><tr><td>&quot;2020-11-24&quot;</td><td>127.83</td><td>65185</td><td>&quot;link_cobro&quot;</td><td>2020-11-24</td><td>2020-11-24</td><td>48</td></tr><tr><td>&quot;2020-11-22&quot;</td><td>93.18</td><td>43737</td><td>&quot;point&quot;</td><td>2020-11-22</td><td>2020-11-22</td><td>47</td></tr><tr><td>&hellip;</td><td>&hellip;</td><td>&hellip;</td><td>&hellip;</td><td>&hellip;</td><td>&hellip;</td><td>&hellip;</td></tr><tr><td>&quot;2020-11-05&quot;</td><td>4.02</td><td>87040</td><td>&quot;credits_consumer&quot;</td><td>2020-11-05</td><td>2020-11-05</td><td>45</td></tr><tr><td>&quot;2020-11-14&quot;</td><td>76.38</td><td>26567</td><td>&quot;cellphone_recharge&quot;</td><td>2020-11-14</td><td>2020-11-14</td><td>46</td></tr><tr><td>&quot;2020-11-11&quot;</td><td>12.74</td><td>20259</td><td>&quot;credits_consumer&quot;</td><td>2020-11-11</td><td>2020-11-11</td><td>46</td></tr><tr><td>&quot;2020-11-06&quot;</td><td>118.45</td><td>81585</td><td>&quot;prepaid&quot;</td><td>2020-11-06</td><td>2020-11-06</td><td>45</td></tr><tr><td>&quot;2020-11-15&quot;</td><td>40.6</td><td>8653</td><td>&quot;cellphone_recharge&quot;</td><td>2020-11-15</td><td>2020-11-15</td><td>46</td></tr></tbody></table></div>"
      ],
      "text/plain": [
       "shape: (756_483, 7)\n",
       "┌────────────┬────────┬─────────┬────────────────────┬────────────┬────────────┬──────┐\n",
       "│ pay_date   ┆ total  ┆ user_id ┆ value_prop         ┆ timestamp  ┆ day        ┆ week │\n",
       "│ ---        ┆ ---    ┆ ---     ┆ ---                ┆ ---        ┆ ---        ┆ ---  │\n",
       "│ str        ┆ f64    ┆ i64     ┆ str                ┆ date       ┆ date       ┆ i8   │\n",
       "╞════════════╪════════╪═════════╪════════════════════╪════════════╪════════════╪══════╡\n",
       "│ 2020-11-21 ┆ 56.24  ┆ 23617   ┆ cellphone_recharge ┆ 2020-11-21 ┆ 2020-11-21 ┆ 47   │\n",
       "│ 2020-11-05 ┆ 23.11  ┆ 52363   ┆ credits_consumer   ┆ 2020-11-05 ┆ 2020-11-05 ┆ 45   │\n",
       "│ 2020-11-24 ┆ 37.69  ┆ 20574   ┆ cellphone_recharge ┆ 2020-11-24 ┆ 2020-11-24 ┆ 48   │\n",
       "│ 2020-11-24 ┆ 127.83 ┆ 65185   ┆ link_cobro         ┆ 2020-11-24 ┆ 2020-11-24 ┆ 48   │\n",
       "│ 2020-11-22 ┆ 93.18  ┆ 43737   ┆ point              ┆ 2020-11-22 ┆ 2020-11-22 ┆ 47   │\n",
       "│ …          ┆ …      ┆ …       ┆ …                  ┆ …          ┆ …          ┆ …    │\n",
       "│ 2020-11-05 ┆ 4.02   ┆ 87040   ┆ credits_consumer   ┆ 2020-11-05 ┆ 2020-11-05 ┆ 45   │\n",
       "│ 2020-11-14 ┆ 76.38  ┆ 26567   ┆ cellphone_recharge ┆ 2020-11-14 ┆ 2020-11-14 ┆ 46   │\n",
       "│ 2020-11-11 ┆ 12.74  ┆ 20259   ┆ credits_consumer   ┆ 2020-11-11 ┆ 2020-11-11 ┆ 46   │\n",
       "│ 2020-11-06 ┆ 118.45 ┆ 81585   ┆ prepaid            ┆ 2020-11-06 ┆ 2020-11-06 ┆ 45   │\n",
       "│ 2020-11-15 ┆ 40.6   ┆ 8653    ┆ cellphone_recharge ┆ 2020-11-15 ┆ 2020-11-15 ┆ 46   │\n",
       "└────────────┴────────┴─────────┴────────────────────┴────────────┴────────────┴──────┘"
      ]
     },
     "execution_count": 6,
     "metadata": {},
     "output_type": "execute_result"
    }
   ],
   "source": [
    "pays"
   ]
  }
 ],
 "metadata": {
  "kernelspec": {
   "display_name": "venv",
   "language": "python",
   "name": "python3"
  },
  "language_info": {
   "codemirror_mode": {
    "name": "ipython",
    "version": 3
   },
   "file_extension": ".py",
   "mimetype": "text/x-python",
   "name": "python",
   "nbconvert_exporter": "python",
   "pygments_lexer": "ipython3",
   "version": "3.13.3"
  }
 },
 "nbformat": 4,
 "nbformat_minor": 5
}
