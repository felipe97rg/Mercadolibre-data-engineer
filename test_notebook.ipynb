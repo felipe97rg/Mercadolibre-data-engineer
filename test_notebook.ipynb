{
 "cells": [
  {
   "cell_type": "code",
   "execution_count": 7,
   "id": "ff6f63eb",
   "metadata": {},
   "outputs": [
    {
     "name": "stdout",
     "output_type": "stream",
     "text": [
      "PRINTS: Filas limpias -> 508617 (eliminadas 0)\n",
      "TAPS: Filas limpias -> 50859 (eliminadas 0)\n",
      "PAYS: Filas limpias -> 756483 (eliminadas 0)\n"
     ]
    }
   ],
   "source": [
    "from src.data_loader import load_all_data\n",
    "prints, taps, pays = load_all_data()"
   ]
  },
  {
   "cell_type": "code",
   "execution_count": 3,
   "id": "bccf5d56",
   "metadata": {},
   "outputs": [
    {
     "name": "stdout",
     "output_type": "stream",
     "text": [
      "PRINTS: Filas limpias -> 508617 (eliminadas 0)\n",
      "TAPS: Filas limpias -> 50859 (eliminadas 0)\n",
      "PAYS: Filas limpias -> 756483 (eliminadas 0)\n"
     ]
    }
   ],
   "source": [
    "from src.data_loader_polars import load_all_data\n",
    "\n",
    "# Cargar los datos\n",
    "prints, taps, pays = load_all_data()\n",
    "# Vista previa de los datos de prints"
   ]
  },
  {
   "cell_type": "code",
   "execution_count": null,
   "id": "d89743d8",
   "metadata": {},
   "outputs": [
    {
     "data": {
      "text/plain": [
       "(508617, 6)"
      ]
     },
     "execution_count": 6,
     "metadata": {},
     "output_type": "execute_result"
    }
   ],
   "source": []
  }
 ],
 "metadata": {
  "kernelspec": {
   "display_name": "venv",
   "language": "python",
   "name": "python3"
  },
  "language_info": {
   "codemirror_mode": {
    "name": "ipython",
    "version": 3
   },
   "file_extension": ".py",
   "mimetype": "text/x-python",
   "name": "python",
   "nbconvert_exporter": "python",
   "pygments_lexer": "ipython3",
   "version": "3.13.3"
  }
 },
 "nbformat": 4,
 "nbformat_minor": 5
}
